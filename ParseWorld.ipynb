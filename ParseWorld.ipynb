{
 "cells": [
  {
   "cell_type": "code",
   "execution_count": 1,
   "metadata": {
    "collapsed": false
   },
   "outputs": [],
   "source": [
    "from docx import Document\n",
    "from docx.enum.style import WD_STYLE_TYPE\n",
    "import sys\n",
    "import pandas as pd\n",
    "\n",
    "import re\n",
    "from zhon.hanzi import punctuation\n",
    "import string\n",
    "import numpy as np\n",
    "from docx.shared import RGBColor\n",
    "from copy import deepcopy\n",
    "\n",
    "from docx.text.paragraph import Paragraph\n",
    "from docx.oxml.xmlchemy import OxmlElement\n",
    "\n",
    "import Levenshtein"
   ]
  },
  {
   "cell_type": "markdown",
   "metadata": {},
   "source": [
    "# Load Fund Firm Pair"
   ]
  },
  {
   "cell_type": "code",
   "execution_count": 2,
   "metadata": {
    "collapsed": false
   },
   "outputs": [],
   "source": [
    "excel_name = \"/Users/yangguangyao/Desktop/qianqian/jijindanwei.xlsx\"\n",
    "xls = pd.ExcelFile(excel_name)\n",
    "\n",
    "df_fund = pd.read_excel(xls, 'fund', header=None)\n",
    "df_fund.columns = [\"cn\", \"en\"]\n",
    "\n",
    "df_firm = pd.read_excel(xls, 'firm', header=None)\n",
    "df_firm.columns = [\"cn\", \"en\"]"
   ]
  },
  {
   "cell_type": "markdown",
   "metadata": {},
   "source": [
    "# Get Firm From Input"
   ]
  },
  {
   "cell_type": "code",
   "execution_count": 3,
   "metadata": {
    "collapsed": true
   },
   "outputs": [],
   "source": [
    "def process_firm_string(s):\n",
    "    # remove number \n",
    "    s1 = ''.join([i for i in s if not i.isdigit()])\n",
    "    # remove chinese puncs\n",
    "    s2 = re.sub(u\"[{}]+\".format(punctuation + string.punctuation), \" \", s1) # 需要将str转换为unicode\n",
    "    # remove\n",
    "    s3 = filter(lambda x: len(x)>3, s2.split())\n",
    "    s4 = \" \".join(s3)\n",
    "    return s4"
   ]
  },
  {
   "cell_type": "code",
   "execution_count": 35,
   "metadata": {
    "collapsed": false
   },
   "outputs": [
    {
     "name": "stdout",
     "output_type": "stream",
     "text": [
      "（北京中医药大学，北京100029）\n",
      "北京中医药大学\n",
      "（1湖南中医药大学附属中西医结合医院针灸推拿康复科，长沙 4100061；2湖南中医药大学针灸推拿学院，长沙 410208）\n",
      "湖南中医药大学附属中西医结合医院针灸推拿康复科 湖南中医药大学针灸推拿学院\n",
      "（1中国中医科学院中药研究所，北京 100700；2河北大学附属医院中西医结合科，\n",
      "中国中医科学院中药研究所 河北大学附属医院中西医结合科\n",
      "（安徽中医药大学第一附属医院，合肥 230031）\n",
      "安徽中医药大学第一附属医院\n",
      "（1中日友好医院，北京 100029；2北京中医医院顺义医院，北京 101300）\n",
      "中日友好医院 北京中医医院顺义医院\n",
      "（1福建中医药大学中医学院，福州 350122；2福建中医药大学附属福州中医院，福州350001）\n",
      "福建中医药大学中医学院 福建中医药大学附属福州中医院\n",
      "（天津市中医药研究院附属医院肾病科，天津 300120）\n",
      "天津市中医药研究院附属医院肾病科\n",
      "（河南中医药大学，郑州 450005）\n",
      "河南中医药大学\n",
      " [ 1北京市延庆区医院（北京大学第三医院延庆医院），北京 102100；2北京中医药大学\n",
      "北京市延庆区医院 北京大学第三医院延庆医院 北京中医药大学\n"
     ]
    }
   ],
   "source": [
    "doc_path = \"/Users/yangguangyao/Desktop/qianqian/t1-firm-A.docx\"\n",
    "document = Document(doc_path)\n",
    "\n",
    "orig_cn_firm = []\n",
    "cn_firm = []\n",
    "for p in document.paragraphs:\n",
    "    if p.text and p.text[:2] == \"AA\":\n",
    "        \n",
    "        t1 = p.text[2:]\n",
    "        t2 = process_firm_string(p.text[2:])\n",
    "        \n",
    "        orig_cn_firm.append(t1)\n",
    "        cn_firm.append(t2)\n",
    "        \n",
    "        print t1\n",
    "        print t2"
   ]
  },
  {
   "cell_type": "code",
   "execution_count": 40,
   "metadata": {
    "collapsed": false
   },
   "outputs": [
    {
     "name": "stdout",
     "output_type": "stream",
     "text": [
      "安徽中医药大学第一附属医院\n"
     ]
    }
   ],
   "source": [
    "print cn_firm[3]"
   ]
  },
  {
   "cell_type": "markdown",
   "metadata": {},
   "source": [
    "# Find Corresponding En"
   ]
  },
  {
   "cell_type": "code",
   "execution_count": 6,
   "metadata": {
    "collapsed": false,
    "scrolled": false
   },
   "outputs": [],
   "source": [
    "def get_df_quiry(df_firm, firm_quiry):\n",
    "\n",
    "\n",
    "    cn_list = []\n",
    "    en_list = []\n",
    "    dist_list = []\n",
    "\n",
    "    for i in df_firm.iterrows():\n",
    "        cn_name = i[1].cn\n",
    "        en_name = i[1].en\n",
    "        if type(cn_name) == type(u\"\"):\n",
    "            curr_dist = Levenshtein.distance(firm_quiry, cn_name)\n",
    "\n",
    "            dist_list.append(curr_dist)\n",
    "            cn_list.append(cn_name)\n",
    "            en_list.append(en_name)\n",
    "\n",
    "    df_quiry = pd.DataFrame({\n",
    "            \"cn\": cn_list,\n",
    "            \"en\": en_list,\n",
    "            \"d\": dist_list\n",
    "        })\n",
    "\n",
    "    df_quiry2 = df_quiry.sort_values(by=['d'])[[\"cn\", \"en\"]].head(5)\n",
    "    \n",
    "    return df_quiry2"
   ]
  },
  {
   "cell_type": "code",
   "execution_count": 121,
   "metadata": {
    "collapsed": false
   },
   "outputs": [
    {
     "name": "stdout",
     "output_type": "stream",
     "text": [
      "安徽中医药大学第一附属医院\n"
     ]
    },
    {
     "data": {
      "text/html": [
       "<div>\n",
       "<table border=\"1\" class=\"dataframe\">\n",
       "  <thead>\n",
       "    <tr style=\"text-align: right;\">\n",
       "      <th></th>\n",
       "      <th>cn</th>\n",
       "      <th>en</th>\n",
       "    </tr>\n",
       "  </thead>\n",
       "  <tbody>\n",
       "    <tr>\n",
       "      <th>152</th>\n",
       "      <td>广西中医药大学第一附属医院</td>\n",
       "      <td>The First Affiliated Hospital of Guangxi Unive...</td>\n",
       "    </tr>\n",
       "    <tr>\n",
       "      <th>165</th>\n",
       "      <td>广州中医药大学第一附属医院</td>\n",
       "      <td>No.1 Affiliated Hospital of Guangzhou Universi...</td>\n",
       "    </tr>\n",
       "    <tr>\n",
       "      <th>594</th>\n",
       "      <td>天津中医药大学第一附属医院</td>\n",
       "      <td>First Teaching Hospital of Tianjin University ...</td>\n",
       "    </tr>\n",
       "    <tr>\n",
       "      <th>284</th>\n",
       "      <td>湖南中医药大学第一附属医院</td>\n",
       "      <td>The First Hospital of Hunan University of Chin...</td>\n",
       "    </tr>\n",
       "    <tr>\n",
       "      <th>163</th>\n",
       "      <td>广州中医药大学第三附属医院</td>\n",
       "      <td>No.3 Affiliated Hospital, Guangzhou University...</td>\n",
       "    </tr>\n",
       "  </tbody>\n",
       "</table>\n",
       "</div>"
      ],
      "text/plain": [
       "                cn                                                 en\n",
       "152  广西中医药大学第一附属医院  The First Affiliated Hospital of Guangxi Unive...\n",
       "165  广州中医药大学第一附属医院  No.1 Affiliated Hospital of Guangzhou Universi...\n",
       "594  天津中医药大学第一附属医院  First Teaching Hospital of Tianjin University ...\n",
       "284  湖南中医药大学第一附属医院  The First Hospital of Hunan University of Chin...\n",
       "163  广州中医药大学第三附属医院  No.3 Affiliated Hospital, Guangzhou University..."
      ]
     },
     "execution_count": 121,
     "metadata": {},
     "output_type": "execute_result"
    }
   ],
   "source": [
    "print firm_quiry\n",
    "df_quiry2"
   ]
  },
  {
   "cell_type": "markdown",
   "metadata": {},
   "source": [
    "# Write to World"
   ]
  },
  {
   "cell_type": "code",
   "execution_count": 147,
   "metadata": {
    "collapsed": false
   },
   "outputs": [],
   "source": [
    "document = Document()\n",
    "\n",
    "n_row, n_col = df_quiry2.shape\n",
    "\n",
    "# add firm_quiry\n",
    "paragraph = document.add_paragraph().add_run(firm_quiry)\n",
    "font = paragraph.font\n",
    "font.color.rgb = RGBColor(0x42, 0x24, 0xE9)\n",
    "\n",
    "\n",
    "# add firm_rst\n",
    "table = document.add_table(rows=0, cols=n_col, style='Table Grid')\n",
    "for i in df_quiry2.iterrows():\n",
    "    cells = table.add_row().cells\n",
    "    cells[0].text = i[1].cn\n",
    "    cells[1].text = i[1].en"
   ]
  },
  {
   "cell_type": "code",
   "execution_count": 148,
   "metadata": {
    "collapsed": true
   },
   "outputs": [],
   "source": [
    "document.save(\"/Users/yangguangyao/Desktop/qianqian/t1.docx\")"
   ]
  },
  {
   "cell_type": "markdown",
   "metadata": {},
   "source": [
    "# All together"
   ]
  },
  {
   "cell_type": "markdown",
   "metadata": {},
   "source": [
    "## only firm table"
   ]
  },
  {
   "cell_type": "code",
   "execution_count": 42,
   "metadata": {
    "collapsed": false
   },
   "outputs": [],
   "source": [
    "doc_path = \"/Users/yangguangyao/Desktop/qianqian/0226.docx\"\n",
    "document = Document(doc_path)\n",
    "\n",
    "rst_document = Document()\n",
    "\n",
    "\n",
    "\n",
    "# part1\n",
    "# find cn, en\n",
    "\n",
    "cn_s_list = []\n",
    "en_s_list = []\n",
    "for ii, p in enumerate(document.paragraphs):\n",
    "    \n",
    "    # find firm tag\n",
    "    if p.text and p.text[:3] == \"AA1\":\n",
    "        cn_s_list.append(p)\n",
    "        \n",
    "    if p.text and p.text[:3] == \"AA2\":\n",
    "        en_s_list.append(p)\n",
    "        \n",
    "# part2 parse\n",
    "assert len(cn_s_list) == len(en_s_list)\n",
    "\n",
    "cnt = 104\n",
    "for i in range(len(cn_s_list)):\n",
    "    \n",
    "    p = cn_s_list[i]\n",
    "    p_en = en_s_list[i]\n",
    "\n",
    "    \n",
    "    s_process = process_firm_string(p.text.strip()[3:])\n",
    "\n",
    "    rst_document.add_paragraph(str(cnt), \"Heading 1\")\n",
    "\n",
    "    rst_document.add_paragraph(p.text[3:])\n",
    "    \n",
    "    rst_document.add_paragraph(p_en.text[3:])\n",
    "\n",
    "    # get seperate firm_quiry\n",
    "    for firm_quiry in s_process.split():\n",
    "\n",
    "        df_quiry2 = get_df_quiry(df_firm, firm_quiry)\n",
    "\n",
    "        # write to the word\n",
    "        n_row, n_col = df_quiry2.shape\n",
    "\n",
    "        # add firm_quiry\n",
    "        paragraph = rst_document.add_paragraph().add_run(firm_quiry)\n",
    "        font = paragraph.font\n",
    "        font.color.rgb = RGBColor(0x42, 0x24, 0xE9)\n",
    "\n",
    "        # add firm_rst\n",
    "        table = rst_document.add_table(rows=0, cols=n_col, style='Table Grid')\n",
    "        for i in df_quiry2.iterrows():\n",
    "            cells = table.add_row().cells\n",
    "            cells[0].text = i[1].cn\n",
    "            cells[1].text = i[1].en\n",
    "            \n",
    "    cnt +=1\n",
    "            \n",
    "rst_document.save(\"/Users/yangguangyao/Desktop/qianqian/firm_table.docx\")  "
   ]
  },
  {
   "cell_type": "markdown",
   "metadata": {},
   "source": [
    "## only fund table"
   ]
  },
  {
   "cell_type": "code",
   "execution_count": 36,
   "metadata": {
    "collapsed": false
   },
   "outputs": [],
   "source": [
    "doc_path = \"/Users/yangguangyao/Desktop/qianqian/0226.docx\"\n",
    "document = Document(doc_path)\n",
    "\n",
    "rst_document = Document()\n",
    "\n",
    "\n",
    "\n",
    "# part1\n",
    "# find cn, en\n",
    "\n",
    "cn_s_list = []\n",
    "en_s_list = []\n",
    "for ii, p in enumerate(document.paragraphs):\n",
    "    \n",
    "    # find firm tag\n",
    "    if p.text and p.text[:3] == \"BB1\":\n",
    "        cn_s_list.append(p)\n",
    "        \n",
    "    if p.text and p.text[:3] == \"BB2\":\n",
    "        en_s_list.append(p)\n",
    "        \n",
    "# part2 parse\n",
    "assert len(cn_s_list) == len(en_s_list)\n",
    "\n",
    "cnt = 104\n",
    "for i in range(len(cn_s_list)):\n",
    "    \n",
    "    p = cn_s_list[i]\n",
    "    p_en = en_s_list[i]\n",
    "\n",
    "    s_process = process_firm_string(p.text[3:])\n",
    "\n",
    "    rst_document.add_paragraph(str(cnt), \"Heading 1\")\n",
    "\n",
    "    rst_document.add_paragraph(p.text[3:])\n",
    "    \n",
    "    rst_document.add_paragraph(p_en.text[3:])\n",
    "\n",
    "    # get seperate firm_quiry\n",
    "    for firm_quiry in s_process.split():\n",
    "\n",
    "        if firm_quiry == u\"基金资助\":\n",
    "            continue\n",
    "            \n",
    "        df_quiry2 = get_df_quiry(df_fund, firm_quiry)\n",
    "\n",
    "        # write to the word\n",
    "        n_row, n_col = df_quiry2.shape\n",
    "\n",
    "        # add firm_quiry\n",
    "        paragraph = rst_document.add_paragraph().add_run(firm_quiry)\n",
    "        font = paragraph.font\n",
    "        font.color.rgb = RGBColor(0x42, 0x24, 0xE9)\n",
    "\n",
    "        # add firm_rst\n",
    "        table = rst_document.add_table(rows=0, cols=n_col, style='Table Grid')\n",
    "        for i in df_quiry2.iterrows():\n",
    "            cells = table.add_row().cells\n",
    "            cells[0].text = i[1].cn\n",
    "            cells[1].text = i[1].en\n",
    "            \n",
    "    cnt +=1\n",
    "            \n",
    "rst_document.save(\"/Users/yangguangyao/Desktop/qianqian/fund_table.docx\")  "
   ]
  },
  {
   "cell_type": "markdown",
   "metadata": {},
   "source": [
    "## embed"
   ]
  },
  {
   "cell_type": "code",
   "execution_count": 188,
   "metadata": {
    "collapsed": true
   },
   "outputs": [],
   "source": [
    "def insert_paragraph_after(paragraph, text=None, style=None):\n",
    "    \"\"\"Insert a new paragraph after the given paragraph.\"\"\"\n",
    "    new_p = OxmlElement(\"w:p\")\n",
    "    paragraph._p.addnext(new_p)\n",
    "    new_para = Paragraph(new_p, paragraph._parent)\n",
    "    if text:\n",
    "        new_para.add_run(text)\n",
    "    if style is not None:\n",
    "        new_para.style = style\n",
    "    return new_para"
   ]
  },
  {
   "cell_type": "code",
   "execution_count": 242,
   "metadata": {
    "collapsed": false
   },
   "outputs": [],
   "source": [
    "doc_path = \"/Users/yangguangyao/Desktop/qianqian/t1-firm-A.docx\"\n",
    "document = Document(doc_path)\n",
    "\n",
    "rst_document = Document()\n",
    "\n",
    "for p in document.paragraphs:\n",
    "\n",
    "    # find firm tag\n",
    "    if p.text and p.text[:2] == \"AA\":\n",
    "        \n",
    "        paragraph = insert_paragraph_after(p, \"\")\n",
    "        s_process = process_firm_string(p.text[2:])\n",
    "        \n",
    "        # get seperate firm_quiry\n",
    "        for firm_quiry in s_process.split():\n",
    "            \n",
    "            df_quiry2 = get_df_quiry(df_firm, firm_quiry)\n",
    "            \n",
    "            # write to the word\n",
    "            n_row, n_col = df_quiry2.shape\n",
    "            \n",
    "            # add table\n",
    "            table = rst_document.add_table(rows=0, cols=n_col, style='Colorful Grid')\n",
    "            for i in df_quiry2.iterrows():\n",
    "                cells = table.add_row().cells\n",
    "                cells[0].text = i[1].cn\n",
    "                cells[1].text = i[1].en\n",
    "            tbl2, p2 = table._tbl, p._p\n",
    "            new_tbl = deepcopy(tbl2)\n",
    "            p2.addnext(new_tbl)\n",
    "            \n",
    "            # add firm_quiry\n",
    "            paragraph = insert_paragraph_after(p)\n",
    "            run = paragraph.add_run(firm_quiry)\n",
    "            run.font.color.rgb = RGBColor(0x42, 0x24, 0xE9)\n",
    "            run.font.bold = True\n",
    "\n",
    "            # add line split\n",
    "            paragraph = insert_paragraph_after(p, \"\")\n",
    "            paragraph = insert_paragraph_after(p, \"\")\n",
    "\n",
    "            \n",
    "#             # add firm_quiry\n",
    "#             paragraph = document.add_paragraph().add_run(firm_quiry)\n",
    "#             font = paragraph.font\n",
    "#             font.color.rgb = RGBColor(0x42, 0x24, 0xE9)\n",
    "            \n",
    "#             # add firm_rst\n",
    "#             #table = document.add_table(rows=0, cols=n_col, style='Table Grid')\n",
    "#             table = document.add_table(rows=0, cols=n_col)\n",
    "#             #table = document.add_table(rows=0, cols=n_col, style='Table Normal')\n",
    "#             for i in df_quiry2.iterrows():\n",
    "#                 cells = table.add_row().cells\n",
    "#                 cells[0].text = i[1].cn\n",
    "#                 cells[1].text = i[1].en\n",
    "        paragraph = insert_paragraph_after(p, \"\")\n",
    "                \n",
    "document.save(\"/Users/yangguangyao/Desktop/qianqian/doc_embed.docx\")  "
   ]
  },
  {
   "cell_type": "markdown",
   "metadata": {},
   "source": [
    "# Get styles"
   ]
  },
  {
   "cell_type": "code",
   "execution_count": 20,
   "metadata": {
    "collapsed": true
   },
   "outputs": [],
   "source": [
    "doc_path = \"/Users/yangguangyao/Desktop/qianqian/2019年02期69-77吴芊 - 已审.docx\"\n",
    "document = Document(doc_path)"
   ]
  },
  {
   "cell_type": "code",
   "execution_count": 21,
   "metadata": {
    "collapsed": false
   },
   "outputs": [],
   "source": [
    "style_title = document.styles[\"qq_title\"]  # 题目：四号，加粗，居中\n",
    "style_author = document.styles[\"qq_author\"] # 作者，作者单位：五号，居中\n",
    "style_kw = document.styles[\"qq_kw\"] # 关键词，资金资助，摘要：五号，两端对齐"
   ]
  },
  {
   "cell_type": "markdown",
   "metadata": {},
   "source": [
    "# Parse Paragraph"
   ]
  },
  {
   "cell_type": "code",
   "execution_count": 28,
   "metadata": {
    "collapsed": true
   },
   "outputs": [],
   "source": [
    "def parse_document(doc_path):\n",
    "    \"\"\"\n",
    "    get sections\n",
    "    \"\"\"\n",
    "    document = Document(doc_path)\n",
    "    \n",
    "    sections = []\n",
    "    curr_section = []\n",
    "    for p in document.paragraphs:\n",
    "        if len(p.text) > 0:\n",
    "            curr_section.append(p)\n",
    "        else:\n",
    "            if len(curr_section) > 0:\n",
    "                sections.append(curr_section)\n",
    "                curr_section = []\n",
    "    if len(curr_section) > 0:\n",
    "        sections.append(curr_section)\n",
    "    return sections"
   ]
  },
  {
   "cell_type": "code",
   "execution_count": 29,
   "metadata": {
    "collapsed": true
   },
   "outputs": [],
   "source": [
    "doc_path = \"/Users/yangguangyao/Desktop/qianqian/test.docx\"\n",
    "sections = parse_document(doc_path)"
   ]
  },
  {
   "cell_type": "code",
   "execution_count": null,
   "metadata": {
    "collapsed": true
   },
   "outputs": [],
   "source": [
    "def fix_section(section):\n",
    "    # 题目，作者，单位，摘要，关键词\n",
    "    assert len(sections[0]) == 5"
   ]
  },
  {
   "cell_type": "code",
   "execution_count": 35,
   "metadata": {
    "collapsed": false
   },
   "outputs": [],
   "source": []
  },
  {
   "cell_type": "code",
   "execution_count": 13,
   "metadata": {
    "collapsed": false
   },
   "outputs": [],
   "source": [
    "document.paragraphs[4].style = style_title"
   ]
  },
  {
   "cell_type": "code",
   "execution_count": 15,
   "metadata": {
    "collapsed": false
   },
   "outputs": [],
   "source": [
    "document.save(\"t1.docx\")"
   ]
  },
  {
   "cell_type": "code",
   "execution_count": null,
   "metadata": {
    "collapsed": true
   },
   "outputs": [],
   "source": []
  },
  {
   "cell_type": "code",
   "execution_count": 6,
   "metadata": {
    "collapsed": false
   },
   "outputs": [
    {
     "ename": "ValueError",
     "evalue": "document already contains style 'qq_title'",
     "output_type": "error",
     "traceback": [
      "\u001b[0;31m---------------------------------------------------------------------------\u001b[0m",
      "\u001b[0;31mValueError\u001b[0m                                Traceback (most recent call last)",
      "\u001b[0;32m<ipython-input-6-191c347816f5>\u001b[0m in \u001b[0;36m<module>\u001b[0;34m()\u001b[0m\n\u001b[0;32m----> 1\u001b[0;31m \u001b[0mstyle_title\u001b[0m \u001b[0;34m=\u001b[0m \u001b[0mdocument\u001b[0m\u001b[0;34m.\u001b[0m\u001b[0mstyles\u001b[0m\u001b[0;34m.\u001b[0m\u001b[0madd_style\u001b[0m\u001b[0;34m(\u001b[0m\u001b[0;34m\"qq_title\"\u001b[0m\u001b[0;34m,\u001b[0m \u001b[0mWD_STYLE_TYPE\u001b[0m\u001b[0;34m.\u001b[0m\u001b[0mPARAGRAPH\u001b[0m\u001b[0;34m)\u001b[0m\u001b[0;34m\u001b[0m\u001b[0m\n\u001b[0m",
      "\u001b[0;32m/Users/yangguangyao/anaconda/envs/p2/lib/python2.7/site-packages/docx/styles/styles.pyc\u001b[0m in \u001b[0;36madd_style\u001b[0;34m(self, name, style_type, builtin)\u001b[0m\n\u001b[1;32m     67\u001b[0m         \u001b[0mstyle_name\u001b[0m \u001b[0;34m=\u001b[0m \u001b[0mBabelFish\u001b[0m\u001b[0;34m.\u001b[0m\u001b[0mui2internal\u001b[0m\u001b[0;34m(\u001b[0m\u001b[0mname\u001b[0m\u001b[0;34m)\u001b[0m\u001b[0;34m\u001b[0m\u001b[0m\n\u001b[1;32m     68\u001b[0m         \u001b[0;32mif\u001b[0m \u001b[0mstyle_name\u001b[0m \u001b[0;32min\u001b[0m \u001b[0mself\u001b[0m\u001b[0;34m:\u001b[0m\u001b[0;34m\u001b[0m\u001b[0m\n\u001b[0;32m---> 69\u001b[0;31m             \u001b[0;32mraise\u001b[0m \u001b[0mValueError\u001b[0m\u001b[0;34m(\u001b[0m\u001b[0;34m\"document already contains style '%s'\"\u001b[0m \u001b[0;34m%\u001b[0m \u001b[0mname\u001b[0m\u001b[0;34m)\u001b[0m\u001b[0;34m\u001b[0m\u001b[0m\n\u001b[0m\u001b[1;32m     70\u001b[0m         style = self._element.add_style_of_type(\n\u001b[1;32m     71\u001b[0m             \u001b[0mstyle_name\u001b[0m\u001b[0;34m,\u001b[0m \u001b[0mstyle_type\u001b[0m\u001b[0;34m,\u001b[0m \u001b[0mbuiltin\u001b[0m\u001b[0;34m\u001b[0m\u001b[0m\n",
      "\u001b[0;31mValueError\u001b[0m: document already contains style 'qq_title'"
     ]
    }
   ],
   "source": [
    "style_title = document.styles.add_style(\"qq_title\", WD_STYLE_TYPE.PARAGRAPH)"
   ]
  },
  {
   "cell_type": "code",
   "execution_count": 42,
   "metadata": {
    "collapsed": false
   },
   "outputs": [
    {
     "ename": "NameError",
     "evalue": "name 'style_title' is not defined",
     "output_type": "error",
     "traceback": [
      "\u001b[0;31m---------------------------------------------------------------------------\u001b[0m",
      "\u001b[0;31mNameError\u001b[0m                                 Traceback (most recent call last)",
      "\u001b[0;32m<ipython-input-42-9eb8e378b43c>\u001b[0m in \u001b[0;36m<module>\u001b[0;34m()\u001b[0m\n\u001b[0;32m----> 1\u001b[0;31m \u001b[0mstyle_title\u001b[0m\u001b[0;34m\u001b[0m\u001b[0m\n\u001b[0m",
      "\u001b[0;31mNameError\u001b[0m: name 'style_title' is not defined"
     ]
    }
   ],
   "source": [
    "style_title"
   ]
  },
  {
   "cell_type": "code",
   "execution_count": 39,
   "metadata": {
    "collapsed": false
   },
   "outputs": [
    {
     "data": {
      "text/plain": [
       "_ParagraphStyle('qq_title') id: 4376747280"
      ]
     },
     "execution_count": 39,
     "metadata": {},
     "output_type": "execute_result"
    }
   ],
   "source": [
    "style"
   ]
  },
  {
   "cell_type": "code",
   "execution_count": 34,
   "metadata": {
    "collapsed": false
   },
   "outputs": [
    {
     "data": {
      "text/plain": [
       "<bound method Styles.default of <docx.styles.styles.Styles object at 0x104e158d0>>"
      ]
     },
     "execution_count": 34,
     "metadata": {},
     "output_type": "execute_result"
    }
   ],
   "source": [
    "doc.styles."
   ]
  },
  {
   "cell_type": "markdown",
   "metadata": {},
   "source": [
    "# parse word"
   ]
  },
  {
   "cell_type": "code",
   "execution_count": 17,
   "metadata": {
    "collapsed": false
   },
   "outputs": [],
   "source": [
    "doc_path = \"/Users/yangguangyao/Desktop/qianqian/2019年02期69-77吴芊 - 已审.docx\"\n",
    "document = Document(doc_path)\n",
    "\n",
    "p = document.paragraphs[3]"
   ]
  },
  {
   "cell_type": "code",
   "execution_count": 18,
   "metadata": {
    "collapsed": false
   },
   "outputs": [
    {
     "name": "stdout",
     "output_type": "stream",
     "text": [
      "三部《名医类案》中历代医家误用小柴胡汤医案探析\n",
      "_ParagraphStyle('Normal') id: 4377429584\n"
     ]
    }
   ],
   "source": [
    "print p.text\n",
    "print p.style"
   ]
  },
  {
   "cell_type": "markdown",
   "metadata": {},
   "source": [
    "# Save"
   ]
  },
  {
   "cell_type": "code",
   "execution_count": 10,
   "metadata": {
    "collapsed": true
   },
   "outputs": [],
   "source": [
    "doc = Document()\n",
    "doc.add_paragraph(u'对中国能源问题的思考','Title')\n",
    "\n",
    "p = doc.add_paragraph(u'能源是经济社会发展的重要制约因素')\n",
    "p.style = 'Heading 2'\n",
    "doc.save('demo.docx')"
   ]
  },
  {
   "cell_type": "code",
   "execution_count": null,
   "metadata": {
    "collapsed": true
   },
   "outputs": [],
   "source": []
  },
  {
   "cell_type": "code",
   "execution_count": 5,
   "metadata": {
    "collapsed": false,
    "scrolled": false
   },
   "outputs": [
    {
     "name": "stdout",
     "output_type": "stream",
     "text": [
      "\n",
      "\n",
      "69.研究报告\n",
      "三部《名医类案》中历代医家误用小柴胡汤医案探析\n",
      "王瑞婷,邹锦,张小勇,宋慧荣,罗亚敏,赵占领,吴印亮,陶晓华*\n",
      "(北京中医药大学,北京100029)\n",
      "摘要:小柴胡汤误治案是指在错误的病机下运用小柴胡汤,不惟旧病不除,反致祸患频出｡研究文献中的小柴胡汤误治医案有助于今人警惕小柴胡汤适应证中的疑似病症,本课题拟通过举例分析三部《名医类案》中的12例小柴胡汤误治医案,根据辨证施治过程中的关键环节,分类总结其失误原因,以期为临证运用小柴胡汤提供借鉴,经验包括:①发热性疾病,除首辨外感与内伤外,外感病人尚需辨别其属阴证或阳证,内伤病人需判断其属实证或虚证;②当少阳与阳明症状相兼时,需全面运用四诊合参以减少失误;③ “但见一症”思路必须在把握少阳枢机不利这一病机的前提下进行应用;④施治阶段,医者需耐心交代服药宜忌,以防治疗事倍功半｡\n",
      "关键词:名医类案;小柴胡汤;误治\n",
      "\n",
      "Analysis of medical cases which use Xiaochaihu Decoction in the wrong way in three series of Mingyi Leian\n",
      "WANG Rui-ting, ZOU Jin, ZHANG Xiao-yong, SONG Hui-rong, LUO Ya-min, ZHAO Zhan-ling, WU Yin-liang, TAO Xiao-hua*\n",
      "(Beijing University of Chinese Medicine, Beijing 100029, China)\n",
      "Abstract: The mistreatment of Xiaochaihu Decoction refers to the use of Xiaochaihu Decoction under the wrong pathogenesis. In this case, not only does the old disease not be removed, but the disaster often occurs. The mistreatment of Xiaochaihu Decoction in the research literature helps people to be alert to the suspected symptoms in Xiaochaihu Decoction indications. This topic intends to analyze 12 cases of Xiaochaihu Decoction misdiagnosed in three series of Mingyi Leian. According to the key links in the process of syndrome differentiation, the reasons for the mistakes are summarized in order to provide reference for the use of Xiaochaihu Decoction in clinical trials. The experience includes: ① In febrile diseases, except for exogenous disease and internal damage, patients with exogenous disease need to distinguish yin syndrome or yang syndrome; patients with internal damage need to judge excess syndrome or deficiency syndrome. ② When the symptoms of Shaoyang disease and Yangming disease are combined, it is necessary to fully use the comprehensive analysis of data gained by four diagnostic methods to reduce errors. ③ “Just see a symptom” must be applied under the premise of grasping the adverse mechanism of Shaoyang disharmony; ④ In the treatment stage, the doctors should be patient and accountable for telling patients compatibility and incompatibility of drugs, so as to prevent treatment from getting half the result with twice the effort.\n",
      "Key words: Mingyi Leian; Xiaochaihu Decoction; Mistreatment\n",
      "\n",
      "\n",
      "70.研究报告\n",
      "基于经脉-脏腑相关的CAG模型大鼠足三里穴区代谢组学特点分析\n",
      " 朱伟,胡小珍2,钟欢2,佘畅2,刘祎2,舒文娜2,杨青2,肖山峰2,常小荣2,刘密2\n",
      "(1湖南中医药大学附属中西医结合医院针灸推拿康复科,长沙 4100061;2湖南中医药大学针灸推拿学院,长沙 410208)\n",
      "摘要:目的:建立并验证慢性萎缩性胃炎(CAG)大鼠模型,运用代谢组学的方法研究CAG大鼠模型代谢组学特征及生物标志物,探讨胃经穴位与胃之间是否存在一定的相对特异性联系｡方法:将32只SD大鼠随机分为空白组和模型组,通过MNNG联合乙醇灌胃､饥饱失常法复制CAG大鼠模型｡HE染色观察大鼠胃组织病理学变化,采用1H-NMR检测足三里穴区及胃组织代谢物并分析所得数据｡结果:造模结束后,模型大鼠胃黏膜色苍白,黏膜层变薄,弹性减少,皱襞变平,黏液减少,有散在出血点,HE染色,光镜下胃组织病理学检查结果可见大量炎性细胞浸润,大量主细胞坏死空泡样变化,大量纤维组织充填,并有诸多集中出血点,腺体结构紊乱减少,固有腺体出现萎缩｡与空白组对比,模型组大鼠胃组织共有17个差异性代谢物,其中乳酸､谷氨酰胺､谷胱甘肽､N-乙酰天门冬氨酸､尿苷二磷酸葡萄糖､肌糖､腺嘌呤核糖核苷酸7个代谢物浓度显著升高,而亮氨酸､牛磺酸､N,N-二甲基甘氨酸､甜菜碱､丝氨酸､ 磷酸胆碱､乙酰磷酸胆碱､尿嘧啶､尿苷､苯丙氨酸10个代谢物浓度显著降低｡与空白组相比,模型组大鼠足三里穴区组织中谷氨酰胺､琥珀酸､赖氨酸､富马酸､次黄嘌呤､一磷酸腺苷显著降低,而N-乙酰天门冬氨酸､天冬氨酸､天冬酰胺､磷酸胆碱/甘磷酸胆碱､酪氨酸､苯丙氨酸､黄嘌呤､肌苷显著升高｡结论:从病理表现上MNNG联合乙醇灌胃､饥饱失常法成功构建了CAG大鼠模型｡代谢组学得出CAG模型大鼠足三里穴区与胃组织之间在病理上相互关联,可初步表明胃经穴位与胃之间存在一定的相对特异性联系｡\n",
      "关键词:足三里;代谢组学;慢性萎缩性胃炎\n",
      "基金资助:国家重点基础研究发展计划(973计划)项目(No.2015CB554502),国家自然科学基金项目(No.81202770,No.81574082,No.81603705)\n",
      "\n",
      "Analysis of the metabolomics characteristics in Zusanli (ST36) area of CAG model rats based on meridian - viscera\n",
      "ZHU Wei1, HU Xiao-zhen2, ZHONG Huan2, SHE Chang2, LIU Yi2, SHU Wen-na2, YANG Qing2, \n",
      "XIAO Shan-feng2, CHANG Xiao-rong2, LIU Mi2\n",
      "( 1 Department of Moxibustion & Tuina, Hunan University of Chinese Medicine Integrated Chinese and Western Medicine Affiliated Hospital, Changsha 410061, China; 2 The School of Acupuncture, Moxibustion & Tuina, Hunan University of Chinese Medicine, Changsha 410208, China)\n",
      "Abstract: To establish and validate a rat model of chronic atrophic gastritis (CAG), metabolomics was applied to study the metabolomics characteristics and biomarkers of CAG rat model, and to explore whether there is a certain relative specificity relationship between gastric acupoints and stomach. Methods: Thirty-two Sprague-Dawley rats were randomly divided into a blank group and a model group. The CAG rat model was replicated by MNNG combined with ethanol gavage and abnormal of starvation. The pathological changes of gastric tissue were observed by HE staining. The metabolites of Zusanli (ST36) and stomach tissues were detected by 1H-NMR and the data were analyzed. Results: After the model was established, the gastric mucosa of the model rats was pale, the mucosa was thinned, the elasticity was reduced, the folds were flattened, the mucus was reduced, these was scattered bleeding point. In HE staining, the pathological examination of the stomach tissue under light microscope showed a large infiltration of inflammatory cells, a large number of primary cells necrotic vacuole-like changes, a large number of fibrous tissue filling, and a number of concentrated bleeding points, glandular structural disorders reduced, the inherent gland atrophy. Compared with the blank group, there were 17 differential metabolites in the gastric tissue of the model group, including lactic acid, glutamine, glutathione, N-acetyl aspartate, uridine diphosphate glucose, muscle sugar, and adenine ribonucleotides, these 7 metabolites is significantly increased. Leucine, taurine, N, N-dimethylglycine, betaine, serine, phosphorylcholine, acetylphosphocholine, uracil, uridine, phenylalanine, the concentration of these 10 metabolites was significantly reduced. Compared with the blank group, the glutamine, succinic acid, lysine, fumaric acid, hypoxanthine and adenosine monophosphate in the Zusanli (ST36) area of ​​the model group were significantly reduced, while N-acetylaspartate, Aspartic acid, asparagine, choline phosphate/choline phosphate, tyrosine, phenylalanine, xanthine and inosine were significantly elevated. Conclusion: The CAG rat model was successfully constructed by pathological manifestation of MNNG combined with ethanol gavage and abnormal of starvation. Metabolomics shows that the CAG model rat Zusanli (ST36) and gastric tissue are pathologically correlated, which may indicate that there is a certain relative specific relationship between gastric acupoints and stomach. \n",
      "Key words: Zusanli (ST36); Metabolomics; Chronic atrophic gastritis\n",
      "Funding: National Key Basic Research Program of China (973 Program) (No.2015CB554502), National Natural Science Foundation of China (No.81202770, No.81574082, No.81603705)\n",
      "\n",
      "71.综述\n",
      "中药复方多靶点逆转肺癌化疗多药耐药机制效应\n",
      "\t王超1,李元滨2\t\n",
      "(1中国中医科学院中药研究所,北京 100700;2河北大学附属医院中西医结合科,\n",
      "保定 071000)\n",
      "摘要:多药耐药是目前肺癌化疗失败的主要原因,如何预防或逆转肺癌多耐药仍然是亟待解决的临床棘手问题｡中医辨证理论指导下的中药复方在肺癌多药耐药研究中日益受到重视｡以现代医学肿瘤多药耐药机制研究为依据,本文归纳发现:中药复方可以通过下调膜转运蛋白､降低肿瘤细胞解毒修复功能､影响信号转导凋亡调控基因､细胞周期､细胞外基质､线粒体相关分子调控效应及抑制或干扰内质网应激等机制发挥抗耐药效应,体现了中药复方干预肺癌耐药的高效､低毒､多靶点优势｡相关研究为肺癌耐药的临床干预和科研提供了参考｡\n",
      "关键词:中药复方;肺癌;多药耐药;机制\n",
      "基金资助:国家自然科学基金项目(No.81503417,No.81673695)\n",
      "Multi-drug resistance mechanisms of lung cancer multi-target reversing by Chinese herbal compound prescription\n",
      "WANG Chao1, LI Yuan-bin2\n",
      "( 1 Institute of Chinese Materia Medica, China Academy of Chinese Medical Sciences, Beijing 100700, China; 2Department of Integrated of Traditional Chinese and Western Medicine, Affiliated Hospital of Hebei University, Baoding 071000, China) \n",
      "Abstract: Multi-drug resistance (MDR) is the main cause of chemotherapy failure in lung cancer. How to prevent or reverse the MDR of lung cancer is still a clinically difficult problem to be solved. Traditional Chinese medicine compound prescription under the guidance of TCM syndrome differentiation theory has received increasing attention in the study of MDR of lung cancer. Based on the research of MDR mechanism of modern medical tumors, this paper concludes that Chinese herbal compound prescription can down-regulate membrane transport protein, reduce tumor cell detoxification and repair function, affect signal transduction apoptosis regulatory genes, cell cycle, extracellular matrix, mitochondria related molecular regulation effects and inhibition or interference with endoplasmic reticulum stress play a role in anti-drug resistance. It reflects the high-efficiency, low-toxicity and multi-target advantages of traditional Chinese medicine compound prescription intervention in lung cancer resistance. Related researchs provides a reference for clinical intervention and research on lung cancer resistance.\n",
      "Key words: Chinese herbal compound prescription; Lung cancer; Multi-drug resistance (MDR); Mechanisms\n",
      "Funding: National Natural Science Foundation of China (No.81503417, No.81673695)\n",
      "\n",
      "72.临床报道\n",
      "痹祺胶囊配合推拿治疗腰椎间盘突出症30例\n",
      "     赵 永 华\n",
      "(安徽中医药大学第一附属医院,合肥 230031)\n",
      "摘要:目的:观察痹祺胶囊配合推拿治疗腰椎间盘突出症的临床疗效｡方法:将60例腰椎间盘突出症患者随机分为治疗组､对照组,各30例｡两组均采用推拿治疗,治疗组加用痹祺胶囊1.2g/次,3次/d;对照组加用双氯芬酸钠肠溶片50mg/次,2次/d｡疗程均为14d｡治疗结束后,对治疗前后患者VAS评分､JOA分数､不良反应等方面进行疗效评价｡结果:单次治疗后,组内治疗前后比较,两组VAS评分均有显著性差异(P<0.01);组间治疗前后比较,VAS评分有统计学意义(P<0.05)｡治疗2周后,组内治疗前后比较,两组JOA评分均有显著性差异(P<0.01)｡治疗后3个月随访,组间治疗前后比较,JOA评分有统计学意义(P<0.05);治疗组总有效率96.6%,对照组为80%,两组在总有效率方面差异显著(P<0.01)｡结论:口服痹祺胶囊配合推拿治疗腰突症与口服双氯芬酸钠肠溶片配合推拿治疗腰突症均可获得满意疗效,两疗法效果相当,但口服痹祺胶囊配合推拿治疗远期疗效大于口服双氯芬酸钠肠溶片配合推拿治疗,且不良反应发生率低｡\n",
      "关键词:痹祺胶囊;双氯芬酸钠肠溶片;推拿治疗;腰椎间盘突出症\n",
      "Biqi Capsule combined with massage treatment on 30 cases of lumbar disc herniation\n",
      " ZHAO Yong-hua\n",
      "( The First Affiliated Hospital of Anhui University of Traditional Chinese Medicine, Hefei 230031, China )\n",
      "Abstract: Objective: To observe the clinical efficacy of Biqi Capsule combined with massage in the treatment of lumbar disc herniation. Methods: Sixty patients with lumbar disc herniation were randomly divided into treatment group and control group, 30 cases in each group. Both groups were treated with massage. The treatment group was treated with sputum capsules 1.2 tid; the control group was treated with diclofenac sodium enteric-coated tablets 50mg bid. The course of treatment is 14d. After the end of treatment, the patients were evaluated for VAS score, JOA score, and adverse reactions before and after treatment. Results: After a single treatment, the VAS scores of the two groups were significantly different before and after treatment (P<0.01). The VAS scores were statistically significant before and after treatment (P<0.05). After 2 weeks of treatment, there was a significant difference in JOA scores between the two groups on Intra-group comparison before and after treatment (P<0.01). After 3 months of treatment, comparing between groups before and after treatment, the JOA scores were statistically significant (P<0.05). The total effective rate was 96.6% in the treatment group and 80% in the control group. The difference in total effective rate between the two groups was significant (P<0.01). Conclusion: Oral Biqi Capsule combined with massage and oral diclofenac sodium enteric-coated tablets combined with massage for the treatment of lumbar disc herniation can achieve satisfactory results. The effect of the two therapies is equivalent, but the long-term effect of oral Biqi Capsule combined with massage is greater than oral diclofenac sodium enteric-coated tablets combined with massage treatment, and the incidence of adverse reactions is lower. \n",
      "Key words: Biqi Capsule; Diclofenac sodium enteric coated tablet; Massage therapy; Lumbar disc herniation\n",
      "\n",
      "73.临证经验\n",
      "李曰庆治疗慢性前列腺炎用药经验\n",
      "李兰群1,宣志华2\n",
      "(1中日友好医院,北京 100029;2北京中医医院顺义医院,北京 101300)\n",
      "摘要:慢性前列腺炎是以慢性盆腔疼痛和排尿异常为主要表现的临床综合征,发病机制尚不明确,治疗效果不令人满意｡李曰庆教授从事男科临床工作40余年,对于慢性前列腺炎的治疗积累了宝贵的经验,文章主要介绍李教授治疗慢性前列腺炎的用药经验｡\n",
      "关键词:李曰庆;慢性前列腺炎;用药经验\n",
      "\n",
      "Medication experience of LI Yue-qing in treating chronic prostatitis\n",
      "LI Lan-qun1, XUAN Zhi-hua2\n",
      "( 1China-Japan Friendship Hospital, Beijing 100029, China; 2 Beijing Hospital of Traditional Chinese Medicine Shunyi Hospital, Beijing 101300, China )\n",
      "Abstract: Chronic prostatitis is a clinical syndrome characterized by chronic pelvic pain and abnormal urination .The pathogenesis is not clear, and the treatment effect is not satisfactory. Professor Li Yue-qing has engaged in andrology clinic for more than 40 years, and accumulated valuable experience in treating chronic prostatitis. This article mainly introduced professor LI’s medication experience in the treatment of chronic prostatitis.\n",
      "Key words: LI Yue-qing; Chronic prostatitis; Medication experience\n",
      "\n",
      "74. 临证经验                   \n",
      "萧贤忠治疗乳痈经验举隅\n",
      "彭榕华,叶文珍2\n",
      "(1福建中医药大学中医学院,福州 350122;2福建中医药大学附属福州中医院,福州350001)\n",
      "\n",
      "摘要:萧贤忠老中医治疗乳痈经验丰富,理论研究深厚,在治疗上擅从肝郁､胃热入手,以疏肝解郁､解毒消痈之瓜蒌牛蒡汤为基础方,临证兼以疏邪解表､活血理气､养血益气之品,分期证治,内治法外治法并举,临床疗效显著｡其遣方用药不拘一方,对症合方灵活变通,值得后人研习探讨｡\n",
      "关键词:乳痈;萧贤忠;肝郁胃热证;内治法;外治法\n",
      "基金资助:福建省中青年教师教育科研项目(No.JZ170016)\n",
      "Experience of XIAO Xian-zhong in treating acute mastitis\n",
      "PENG Rong-hua1, YE Wen-zhen2\n",
      "( 1 College of Traditional Chinese Medicine, Fujian University of Chinese Medicine, Fuzhou 350122, China; 2 Fuzhou Hospital of Traditional Chinese Medicine Affiliated to Fujian University of Traditional Chinese Medicine, Fuzhou 350001, China )\n",
      "Abstract: Xiao Xianzhong, an old traditional Chinese physician has a rich experience in the treatment of acute mastitis, and his theoretical research is profound. He is good at treating liver stagnation and stomach heat in treatment, based on Gualou Niubang Decoction, which has the function of dispersing stagnated liver qi for relieving qi stagnation, removing toxicity for eliminating carbuncles. In addition to medicine of sparseing evils and relieving superficies syndrome, benefiting qi for activating blood circulation, replenishing qi and nourishing blood, staging the treatment, internal treatment and external treatment simultaneously, clinical efficacy is remarkable. The use of the drug is not restricted to one formula, and the symptomatic combination is flexible, which is worthy of further study. \n",
      "Key words: Acute mastitis; XIAO Xian-zhong; Syndrome of liver depression and stomach heat; External treatment; Internal treatment\n",
      "Funding: Young and Middle-aged Teachers Education Scientific Research Project of Fujian Province (No.JZ170016)\n",
      "\n",
      "75.临证经验\n",
      "张大宁教授治疗肾性血尿思维方法辨析\n",
      "孙  义\n",
      "(天津市中医药研究院附属医院肾病科,天津 300120)\n",
      "摘要:肾性血尿是指由原发或继发肾小球疾病引起的肉眼或镜下血尿｡现代医学无特效治疗,常遵循其自然发展过程｡而中医中药有着明显优势,对控制病情进展,改善预后有着积极作用｡张大宁教授将肾性血尿的病机高度概括为热､瘀､虚三方面,并将常用的治则和治法进行了归纳和提炼｡在方药选择和应用上,张教授有着深刻认识和丰富经验｡这些认识和经验对临床治疗具有重要指导意义｡本文予以详尽论述,供临床参考｡\n",
      "关键词:肾性血尿;思维方法辨析;张大宁\n",
      "\n",
      "Thinking methods discrimination of Professor ZHANG Da-ning's on the treatment of renal hematuria\n",
      "\n",
      "SUN Yi\n",
      "( Department of Nephrology, Tianjin Academy of Traditional Chinese Medicine Affiliated Hospital, Tianjin 300120, China )\n",
      "Abstract: Renal hematuria refers to macroscopic or microscopic hematuria caused by primary or secondary glomerular disease. Modern medicine has no specific treatment and often follows its natural development process. Traditional Chinese medicine has obvious advantages and plays a positive role in controlling disease progression and improving prognosis. Professor Zhang Da-ning summarized the pathogenesis of renal hematuria into three aspects: heat, phlegm and deficiency, and summarized and refined the commonly used rules and treatments. Professor Zhang has a deep understanding and rich experience in the selection and application of prescription drugs. These insights and experiences have important guiding significance for clinical treatment. This article is discussed in detail for clinical reference.\n",
      "Key words: Renal hematuria; Discrimination of thinking methods; ZHANG Da-ning\n",
      "\n",
      "76.临证经验\n",
      "王付教授运用蜀漆散探秘\n",
      "王胖,王付\n",
      "(河南中医药大学,郑州 450005)\n",
      "摘要:蜀漆散是张仲景《伤寒杂病论》中治疗痰饮牡疟证的重要用方,由蜀漆､云母､龙骨各等分组成,药简力宏｡王付教授研究经方多年,在临床上独辟蹊径,灵活运用本方及它方合方,临床辨治诸多疑难杂病,常常取得良好治疗效果｡\n",
      "关键词:蜀漆散;经方;痰饮;阳郁;牡疟;王付\n",
      "\n",
      "Exploration of WANG Fu’s application on Shuqi Powder\n",
      "WANG Pang, WANG Fu\n",
      "( Henan University of Traditional Chinese Medicine, Zhengzhou 450005, China )\n",
      "Abstract: Shuqi Powder is an important prescription for treating phlegm and mu malaria syndrome in Shang Han Lun. It is composed of Shu qi, mica, bone fossil of big mammals, which has little herbs but great curative effect. Professor Wang Fu, has studied classical prescription for many years, and has developed a new way in clinical practice. He used his prescription with other prescriptions flexibly to distinguish and treat many difficult and complicated diseases in clinic, and often achieved good therapeutic effect.\n",
      "Key words: Shuqi Powder; Classical prescription; Phlegm and fluid retention; Yang stagnation; Mu malaria; WANG Fu\n",
      "\n",
      "\n",
      "77.临证经验\n",
      "武维屏先生诊治支气管扩张症临床经验\n",
      "吴宇1(指导:武维屏2)\n",
      "[ 1北京市延庆区医院(北京大学第三医院延庆医院),北京 102100;2北京中医药大学\n",
      "东直门医院,北京 100700 ]\n",
      "摘要:武维屏先生诊治支气管扩张症药简力宏｡抓主症,定病名,首提肺络痈之名;重分期,辨实虚,急性期多从内痈辨治,慢性期也可从内疡辨治;析病机,痰热瘀;定治则,清化通调补五法;分两期,明证候,依据证候常见频次将两期定为六种证候｡\n",
      "关键词:武维屏;支气管扩张症;临床经验\n",
      "\n",
      "Clinical experience of WU Wei-ping on diagnosing and treating bronchiectasis\n",
      "WU Yu1 ( Advisor: WU Wei-ping2 )\n",
      "[ 1Beijing Yanqing District Hospital (Peking University Third Hospital Yanqing Hospital), Beijing 102100, China; 2Dongzhimen Hospital Affiliated to Beijing University of Chinese Medicine, Beijing 100700, China ]\n",
      "Abstract: Professor Wu Wei-ping diagnoses and treats bronchiectasis by using simple but effective medicines. Grasping the main disease, defining the name of the disease, she first mentioned the Lung Meridian Abscess; emphasizing staging, distinguishing deficiency and excess, the acute phase is mostly from the internal abscess differentiation, the chronic phase can also be treated from the internal abscess; the disease machine, hot , cold and stasis; the treatment principle is made including “clearing” “dissipating” “promoting” “adjusting” “tonifying” five methods; bronchiectasis is classified into two phases, six types of syndromes are confirmed based on its frequency. \n",
      "Key words: WU Wei-ping; Bronchiectasis; Clinical experience\n",
      "\n",
      "\n"
     ]
    }
   ],
   "source": [
    "doc_path = \"/Users/yangguangyao/Desktop/qianqian/2019年02期69-77吴芊 - 已审.docx\"\n",
    "\n",
    "document = Document(doc_path)\n",
    "for p in document.paragraphs:\n",
    "    print p.text\n",
    "\n",
    "#     print '===='\n",
    "#     for r in p.runs:\n",
    "#         print len(r.text)"
   ]
  },
  {
   "cell_type": "code",
   "execution_count": null,
   "metadata": {
    "collapsed": true
   },
   "outputs": [],
   "source": []
  }
 ],
 "metadata": {
  "kernelspec": {
   "display_name": "Python 2",
   "language": "python",
   "name": "python2"
  },
  "language_info": {
   "codemirror_mode": {
    "name": "ipython",
    "version": 2
   },
   "file_extension": ".py",
   "mimetype": "text/x-python",
   "name": "python",
   "nbconvert_exporter": "python",
   "pygments_lexer": "ipython2",
   "version": "2.7.12"
  }
 },
 "nbformat": 4,
 "nbformat_minor": 2
}
